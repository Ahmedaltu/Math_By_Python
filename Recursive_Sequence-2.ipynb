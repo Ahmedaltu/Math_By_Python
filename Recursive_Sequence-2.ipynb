{
  "nbformat": 4,
  "nbformat_minor": 0,
  "metadata": {
    "colab": {
      "name": "Recursive_Sequence.ipynb",
      "provenance": []
    },
    "kernelspec": {
      "name": "python3",
      "display_name": "Python 3"
    },
    "language_info": {
      "name": "python"
    }
  },
  "cells": [
    {
      "cell_type": "markdown",
      "source": [
        "By: Ahmed Al-Tuwaijari\n",
        "\n",
        "How to calculate recursive sequence\n",
        "\n",
        "\n",
        "\n",
        "Fibonacci squence\n",
        "\n",
        "x[k] = x[k-2] + x[k-1]\n",
        "\n",
        "x[0] = 1\n",
        "\n",
        "x[1] = 1"
      ],
      "metadata": {
        "id": "rXoD9Px3NLsf"
      }
    },
    {
      "cell_type": "code",
      "source": [
        "import numpy as np\n",
        "import matplotlib.pyplot as plt\n",
        " \n",
        "x = np.zeros(8)\n",
        "x[0] = 1\n",
        "x[1] = 1\n",
        "for k in range (2, 8):\n",
        "  x[k] = x[k-2] + x[k-1]\n",
        "  print('x =', x[k], ', k =', k)\n",
        "plt.stem(x)\n",
        "plt.title('Fibonacci sequence')\n",
        "plt.show()"
      ],
      "metadata": {
        "colab": {
          "base_uri": "https://localhost:8080/",
          "height": 437
        },
        "id": "AW95WwUUNqgN",
        "outputId": "9621c2d1-9fc3-4d68-be32-2f0ca7f89dea"
      },
      "execution_count": 4,
      "outputs": [
        {
          "output_type": "stream",
          "name": "stdout",
          "text": [
            "x = 2.0 , k = 2\n",
            "x = 3.0 , k = 3\n",
            "x = 5.0 , k = 4\n",
            "x = 8.0 , k = 5\n",
            "x = 13.0 , k = 6\n",
            "x = 21.0 , k = 7\n"
          ]
        },
        {
          "output_type": "stream",
          "name": "stderr",
          "text": [
            "/usr/local/lib/python3.7/dist-packages/ipykernel_launcher.py:10: UserWarning: In Matplotlib 3.3 individual lines on a stem plot will be added as a LineCollection instead of individual lines. This significantly improves the performance of a stem plot. To remove this warning and switch to the new behaviour, set the \"use_line_collection\" keyword argument to True.\n",
            "  # Remove the CWD from sys.path while we load stuff.\n"
          ]
        },
        {
          "output_type": "display_data",
          "data": {
            "text/plain": [
              "<Figure size 432x288 with 1 Axes>"
            ],
            "image/png": "[encoded data removed]"
          },
          "metadata": {
            "needs_background": "light"
          }
        }
      ]
    },
    {
      "cell_type": "code",
      "source": [
        ""
      ],
      "metadata": {
        "id": "iHRZkqtyO-g5"
      },
      "execution_count": null,
      "outputs": []
    }
  ]
}