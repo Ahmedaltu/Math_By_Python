{
  "nbformat": 4,
  "nbformat_minor": 0,
  "metadata": {
    "colab": {
      "name": "Python_Exercises_1.ipynb",
      "provenance": []
    },
    "kernelspec": {
      "name": "python3",
      "display_name": "Python 3"
    },
    "language_info": {
      "name": "python"
    }
  },
  "cells": [
    {
      "cell_type": "code",
      "execution_count": null,
      "metadata": {
        "id": "V9iCVf-KfFzR"
      },
      "outputs": [],
      "source": [
        "import numpy as np\n",
        "import numpy.linalg as la\n",
        "import matplotlib.pyplot as plt"
      ]
    },
    {
      "cell_type": "markdown",
      "source": [
        "#1. Calculate in Python (if defined)"
      ],
      "metadata": {
        "id": "_PhkUM8IgWef"
      }
    },
    {
      "cell_type": "code",
      "source": [
        "A = np.array([[3, 6]])\n",
        "B = np.array([[5], [2]])\n",
        "print('A:')\n",
        "print(A)\n",
        "print('B:')\n",
        "print(B)"
      ],
      "metadata": {
        "colab": {
          "base_uri": "https://localhost:8080/"
        },
        "id": "gPdLzGfEgOPY",
        "outputId": "41844926-b8fc-4498-d084-14c9bece7cce"
      },
      "execution_count": null,
      "outputs": [
        {
          "output_type": "stream",
          "name": "stdout",
          "text": [
            "A:\n",
            "[[3 6]]\n",
            "B:\n",
            "[[5]\n",
            " [2]]\n"
          ]
        }
      ]
    },
    {
      "cell_type": "markdown",
      "source": [
        "A)"
      ],
      "metadata": {
        "id": "kuNHWk3hj90I"
      }
    },
    {
      "cell_type": "code",
      "source": [
        "print(A.dot(B))"
      ],
      "metadata": {
        "colab": {
          "base_uri": "https://localhost:8080/"
        },
        "id": "oiwZnfCrg4Tc",
        "outputId": "fa3b8fc1-6324-4067-8ef2-31ce0abc4629"
      },
      "execution_count": null,
      "outputs": [
        {
          "output_type": "stream",
          "name": "stdout",
          "text": [
            "[[27]]\n"
          ]
        }
      ]
    },
    {
      "cell_type": "markdown",
      "source": [
        "B)"
      ],
      "metadata": {
        "id": "1afvs32ykAdX"
      }
    },
    {
      "cell_type": "code",
      "source": [
        "print(B.dot(A))"
      ],
      "metadata": {
        "colab": {
          "base_uri": "https://localhost:8080/"
        },
        "id": "9dDcFhAOiQMy",
        "outputId": "88aa232f-e6b6-4409-9648-01b43e1b0ce7"
      },
      "execution_count": null,
      "outputs": [
        {
          "output_type": "stream",
          "name": "stdout",
          "text": [
            "[[15 30]\n",
            " [ 6 12]]\n"
          ]
        }
      ]
    },
    {
      "cell_type": "markdown",
      "source": [
        " C) Not defined"
      ],
      "metadata": {
        "id": "HC2nBSorjCe1"
      }
    },
    {
      "cell_type": "markdown",
      "source": [
        "D)"
      ],
      "metadata": {
        "id": "Dvx5dZfgkJlU"
      }
    },
    {
      "cell_type": "code",
      "source": [
        "D = np.array([[1, 2], [3, 5]])\n",
        "D1 = np.array([[4], [6]])\n",
        "print('D:')\n",
        "print(D)\n",
        "print('D1:')\n",
        "print(D1)"
      ],
      "metadata": {
        "colab": {
          "base_uri": "https://localhost:8080/"
        },
        "id": "wxhv0siKiuBH",
        "outputId": "cb0ead44-c5a4-4e78-acf9-681074da5069"
      },
      "execution_count": null,
      "outputs": [
        {
          "output_type": "stream",
          "name": "stdout",
          "text": [
            "D:\n",
            "[[1 2]\n",
            " [3 5]]\n",
            "D1:\n",
            "[[4]\n",
            " [6]]\n"
          ]
        }
      ]
    },
    {
      "cell_type": "code",
      "source": [
        "print(D.dot(D1))"
      ],
      "metadata": {
        "colab": {
          "base_uri": "https://localhost:8080/"
        },
        "id": "iTbJ3StYkvat",
        "outputId": "c9e0efa2-3d37-423b-deec-8f90daad80de"
      },
      "execution_count": null,
      "outputs": [
        {
          "output_type": "stream",
          "name": "stdout",
          "text": [
            "[[16]\n",
            " [42]]\n"
          ]
        }
      ]
    },
    {
      "cell_type": "markdown",
      "source": [
        "E) "
      ],
      "metadata": {
        "id": "t-tQ5D9Lk-_t"
      }
    },
    {
      "cell_type": "code",
      "source": [
        "E = np.array([[4, 6]])\n",
        "print(E)"
      ],
      "metadata": {
        "colab": {
          "base_uri": "https://localhost:8080/"
        },
        "id": "roxk8Prgk8Ee",
        "outputId": "6f5d4f15-468e-4d8f-a465-6fc719292a2f"
      },
      "execution_count": null,
      "outputs": [
        {
          "output_type": "stream",
          "name": "stdout",
          "text": [
            "[[4 6]]\n"
          ]
        }
      ]
    },
    {
      "cell_type": "code",
      "source": [
        "print(E.dot(D))"
      ],
      "metadata": {
        "colab": {
          "base_uri": "https://localhost:8080/"
        },
        "id": "QKQb7H1nlg__",
        "outputId": "991b41aa-7fa4-487f-b99c-a371eeda7ee2"
      },
      "execution_count": null,
      "outputs": [
        {
          "output_type": "stream",
          "name": "stdout",
          "text": [
            "[[22 38]]\n"
          ]
        }
      ]
    },
    {
      "cell_type": "markdown",
      "source": [
        "F)"
      ],
      "metadata": {
        "id": "PGkz7sQImGQJ"
      }
    },
    {
      "cell_type": "code",
      "source": [
        "F = np.array([[4], [6]])\n",
        "print(F)"
      ],
      "metadata": {
        "colab": {
          "base_uri": "https://localhost:8080/"
        },
        "id": "DvsNWg62lmn1",
        "outputId": "964e937c-7ccd-4061-b755-4c88dbafd17d"
      },
      "execution_count": null,
      "outputs": [
        {
          "output_type": "stream",
          "name": "stdout",
          "text": [
            "[[4]\n",
            " [6]]\n"
          ]
        }
      ]
    },
    {
      "cell_type": "code",
      "source": [
        "print(F.T)"
      ],
      "metadata": {
        "colab": {
          "base_uri": "https://localhost:8080/"
        },
        "id": "9SfO23R0n91d",
        "outputId": "948c6522-a94b-47f0-ec1c-2e9e2b1029a9"
      },
      "execution_count": null,
      "outputs": [
        {
          "output_type": "stream",
          "name": "stdout",
          "text": [
            "[[4 6]]\n"
          ]
        }
      ]
    },
    {
      "cell_type": "code",
      "source": [
        "print(D)"
      ],
      "metadata": {
        "colab": {
          "base_uri": "https://localhost:8080/"
        },
        "id": "iP7zjwm0n1v5",
        "outputId": "f21bc8e0-9110-44b6-b1fe-5f9d35a18589"
      },
      "execution_count": null,
      "outputs": [
        {
          "output_type": "stream",
          "name": "stdout",
          "text": [
            "[[1 2]\n",
            " [3 5]]\n"
          ]
        }
      ]
    },
    {
      "cell_type": "code",
      "source": [
        "print(F.T.dot(D).dot(F))"
      ],
      "metadata": {
        "colab": {
          "base_uri": "https://localhost:8080/"
        },
        "id": "x84AkoBfmcX2",
        "outputId": "00875e34-aa51-44cd-bbfb-ccc19fdf617c"
      },
      "execution_count": null,
      "outputs": [
        {
          "output_type": "stream",
          "name": "stdout",
          "text": [
            "[[316]]\n"
          ]
        }
      ]
    },
    {
      "cell_type": "markdown",
      "source": [
        "#2. Let"
      ],
      "metadata": {
        "id": "HrAKJYjEoIDH"
      }
    },
    {
      "cell_type": "code",
      "source": [
        "A2 = np.array([[1, 0], [0, 2], [3, 0]])\n",
        "B2 = np.array([[0, 4], [0, 5], [6, 0]])"
      ],
      "metadata": {
        "id": "uo5PvOuYoGoT"
      },
      "execution_count": null,
      "outputs": []
    },
    {
      "cell_type": "code",
      "source": [
        "print(A2)"
      ],
      "metadata": {
        "colab": {
          "base_uri": "https://localhost:8080/"
        },
        "id": "rXTOhYlgnRN1",
        "outputId": "8be2a7ba-e3dc-4f65-93e3-d2f7d151a676"
      },
      "execution_count": null,
      "outputs": [
        {
          "output_type": "stream",
          "name": "stdout",
          "text": [
            "[[1 0]\n",
            " [0 2]\n",
            " [3 0]]\n"
          ]
        }
      ]
    },
    {
      "cell_type": "code",
      "source": [
        "print(B2)"
      ],
      "metadata": {
        "colab": {
          "base_uri": "https://localhost:8080/"
        },
        "id": "WOUdNGQLot1-",
        "outputId": "08b7ea88-f25a-42dc-f61f-248672e5965b"
      },
      "execution_count": null,
      "outputs": [
        {
          "output_type": "stream",
          "name": "stdout",
          "text": [
            "[[0 4]\n",
            " [0 5]\n",
            " [6 0]]\n"
          ]
        }
      ]
    },
    {
      "cell_type": "markdown",
      "source": [
        "a) Not defined\n",
        "\n",
        "\n",
        "b) Not defined"
      ],
      "metadata": {
        "id": "Je82kSRQpDs4"
      }
    },
    {
      "cell_type": "code",
      "source": [
        "print(A2 * B2)"
      ],
      "metadata": {
        "colab": {
          "base_uri": "https://localhost:8080/"
        },
        "id": "CHjOfTTBtdne",
        "outputId": "a9393d53-e43c-48d7-ddf9-cbc0b9cda170"
      },
      "execution_count": null,
      "outputs": [
        {
          "output_type": "stream",
          "name": "stdout",
          "text": [
            "[[ 0  0]\n",
            " [ 0 10]\n",
            " [18  0]]\n"
          ]
        }
      ]
    },
    {
      "cell_type": "markdown",
      "source": [
        "c)"
      ],
      "metadata": {
        "id": "jLo3gJIppnqS"
      }
    },
    {
      "cell_type": "code",
      "source": [
        "A2T = A2.T"
      ],
      "metadata": {
        "id": "WOmDoACqqDNZ"
      },
      "execution_count": null,
      "outputs": []
    },
    {
      "cell_type": "code",
      "source": [
        "print(A2T)"
      ],
      "metadata": {
        "colab": {
          "base_uri": "https://localhost:8080/"
        },
        "id": "z5WFTnZkp9XM",
        "outputId": "5cf7e1a2-44ed-48c9-f5fc-84981a277e4d"
      },
      "execution_count": null,
      "outputs": [
        {
          "output_type": "stream",
          "name": "stdout",
          "text": [
            "[[1 0 3]\n",
            " [0 2 0]]\n"
          ]
        }
      ]
    },
    {
      "cell_type": "code",
      "source": [
        "print(A2T.dot(B2))"
      ],
      "metadata": {
        "colab": {
          "base_uri": "https://localhost:8080/"
        },
        "id": "Lq8LKd-kovMG",
        "outputId": "567a0ae0-ed75-4d81-c891-bfaf5f1a6893"
      },
      "execution_count": null,
      "outputs": [
        {
          "output_type": "stream",
          "name": "stdout",
          "text": [
            "[[18  4]\n",
            " [ 0 10]]\n"
          ]
        }
      ]
    },
    {
      "cell_type": "markdown",
      "source": [
        "d)"
      ],
      "metadata": {
        "id": "WqP0erzBqooD"
      }
    },
    {
      "cell_type": "code",
      "source": [
        "B2T = B2.T\n",
        "print(B2T)"
      ],
      "metadata": {
        "colab": {
          "base_uri": "https://localhost:8080/"
        },
        "id": "YLIrXbSMpJFK",
        "outputId": "197b7510-cdaf-479e-adca-eab24cab6bfa"
      },
      "execution_count": null,
      "outputs": [
        {
          "output_type": "stream",
          "name": "stdout",
          "text": [
            "[[0 0 6]\n",
            " [4 5 0]]\n"
          ]
        }
      ]
    },
    {
      "cell_type": "code",
      "source": [
        "print(A2.dot(B2T))"
      ],
      "metadata": {
        "colab": {
          "base_uri": "https://localhost:8080/"
        },
        "id": "pzXq6GCcqzZP",
        "outputId": "64f9f177-23f4-4808-b85d-3032c851e178"
      },
      "execution_count": null,
      "outputs": [
        {
          "output_type": "stream",
          "name": "stdout",
          "text": [
            "[[ 0  0  6]\n",
            " [ 8 10  0]\n",
            " [ 0  0 18]]\n"
          ]
        }
      ]
    },
    {
      "cell_type": "markdown",
      "source": [
        "e) 10A"
      ],
      "metadata": {
        "id": "l38OCXF4rQbb"
      }
    },
    {
      "cell_type": "code",
      "source": [
        "print(10 * A2)"
      ],
      "metadata": {
        "colab": {
          "base_uri": "https://localhost:8080/"
        },
        "id": "JOgqWfKjrHoV",
        "outputId": "1cda7a84-92c6-4785-bf1a-a5afbf676939"
      },
      "execution_count": null,
      "outputs": [
        {
          "output_type": "stream",
          "name": "stdout",
          "text": [
            "[[10  0]\n",
            " [ 0 20]\n",
            " [30  0]]\n"
          ]
        }
      ]
    },
    {
      "cell_type": "markdown",
      "source": [
        "f) 10 + A Not defined"
      ],
      "metadata": {
        "id": "-okAGcpLsinV"
      }
    },
    {
      "cell_type": "markdown",
      "source": [
        "#3. Plot the function\n"
      ],
      "metadata": {
        "id": "ESkEvGIYsz-y"
      }
    },
    {
      "cell_type": "code",
      "source": [
        "x3 = np.linspace(-2, 2, 1000)\n",
        "y3 = 1 / ( 1 + np.exp(x))\n",
        "plt.plot(x3, y3, color='red')\n",
        "plt.grid()\n",
        "plt.show()"
      ],
      "metadata": {
        "colab": {
          "base_uri": "https://localhost:8080/",
          "height": 265
        },
        "id": "yq3FQvUdrb1F",
        "outputId": "146ad648-071d-49e2-a695-511c320c338c"
      },
      "execution_count": 68,
      "outputs": [
        {
          "output_type": "display_data",
          "data": {
            "image/png": "[encoded data removed]",
            "text/plain": [
              "<Figure size 432x288 with 1 Axes>"
            ]
          },
          "metadata": {
            "needs_background": "light"
          }
        }
      ]
    },
    {
      "cell_type": "markdown",
      "source": [
        "#4. Plot the function"
      ],
      "metadata": {
        "id": "lMLx-qXzvdk7"
      }
    },
    {
      "cell_type": "code",
      "source": [
        "x4 = np.linspace(0, 5, 1000)\n",
        "y4 = ((x**3)+(np.abs(x))+(np.log(x+(10**-8))))/(((100+x)**0.5) + (0.01 *(x) *(np.exp(x))))\n",
        "plt.plot(x4, y4, color='red')\n",
        "plt.grid()\n",
        "plt.show()"
      ],
      "metadata": {
        "colab": {
          "base_uri": "https://localhost:8080/",
          "height": 299
        },
        "id": "E2X_6yeorjmC",
        "outputId": "db803808-d99f-42a6-a649-79779c8e67b0"
      },
      "execution_count": 113,
      "outputs": [
        {
          "output_type": "stream",
          "name": "stderr",
          "text": [
            "/usr/local/lib/python3.7/dist-packages/ipykernel_launcher.py:2: RuntimeWarning: invalid value encountered in log\n",
            "  \n"
          ]
        },
        {
          "output_type": "display_data",
          "data": {
            "image/png": "[encoded data removed]",
            "text/plain": [
              "<Figure size 432x288 with 1 Axes>"
            ]
          },
          "metadata": {
            "needs_background": "light"
          }
        }
      ]
    },
    {
      "cell_type": "markdown",
      "source": [
        "#5. Write the equations"
      ],
      "metadata": {
        "id": "N7MyHiEM53WJ"
      }
    },
    {
      "cell_type": "code",
      "source": [
        "A5 = np.array([[1, 2, 4], [-3, 1, 5], [2, -4, 1]])\n",
        "B5 = np.array([[12], [2], [-7]])\n",
        "\n",
        "X5 = la.inv(A5).dot(B5)\n",
        "\n",
        "print(X5)"
      ],
      "metadata": {
        "id": "0qY_ArHFwnbe",
        "colab": {
          "base_uri": "https://localhost:8080/"
        },
        "outputId": "8f9acf95-7f70-4cf3-d1fc-0aba3ac15768"
      },
      "execution_count": 84,
      "outputs": [
        {
          "output_type": "stream",
          "name": "stdout",
          "text": [
            "[[2.]\n",
            " [3.]\n",
            " [1.]]\n"
          ]
        }
      ]
    },
    {
      "cell_type": "code",
      "source": [
        "print(la.inv(A5).dot(A5))"
      ],
      "metadata": {
        "colab": {
          "base_uri": "https://localhost:8080/"
        },
        "id": "1QRmzynm6y85",
        "outputId": "8c5d2d03-8b6d-4cbe-9e9a-d24a0b3545a7"
      },
      "execution_count": 87,
      "outputs": [
        {
          "output_type": "stream",
          "name": "stdout",
          "text": [
            "[[ 1.00000000e+00  0.00000000e+00  3.33066907e-16]\n",
            " [-5.55111512e-17  1.00000000e+00  2.22044605e-16]\n",
            " [ 0.00000000e+00  0.00000000e+00  1.00000000e+00]]\n"
          ]
        }
      ]
    },
    {
      "cell_type": "markdown",
      "source": [
        "#6. Let"
      ],
      "metadata": {
        "id": "tRV8iSwf7Or0"
      }
    },
    {
      "cell_type": "code",
      "source": [
        "A6 = np.array([[2, 5, -1, 3, 6], [1, 0, 0, -2, 0], [4, 1, -2, 0, 7],[0, 3, 5, 1, -1]])\n",
        "print(A6)"
      ],
      "metadata": {
        "colab": {
          "base_uri": "https://localhost:8080/"
        },
        "id": "dIt8sJTX7AkT",
        "outputId": "f019ed68-c9b4-4a5a-eb2d-3bb6c049b437"
      },
      "execution_count": 97,
      "outputs": [
        {
          "output_type": "stream",
          "name": "stdout",
          "text": [
            "[[ 2  5 -1  3  6]\n",
            " [ 1  0  0 -2  0]\n",
            " [ 4  1 -2  0  7]\n",
            " [ 0  3  5  1 -1]]\n"
          ]
        }
      ]
    },
    {
      "cell_type": "code",
      "source": [
        "#A(1, 1)\n",
        "A6[0, 0]"
      ],
      "metadata": {
        "colab": {
          "base_uri": "https://localhost:8080/"
        },
        "id": "M-KK0SFu73-k",
        "outputId": "3616e3e0-1d52-4e0e-ff8e-ee173281cdee"
      },
      "execution_count": 108,
      "outputs": [
        {
          "output_type": "execute_result",
          "data": {
            "text/plain": [
              "2"
            ]
          },
          "metadata": {},
          "execution_count": 108
        }
      ]
    },
    {
      "cell_type": "code",
      "source": [
        "#A(2, 4)\n",
        "A6[1, 3]"
      ],
      "metadata": {
        "colab": {
          "base_uri": "https://localhost:8080/"
        },
        "id": "LALRz08P8AtH",
        "outputId": "c36878ba-4dd2-41f1-d070-993b96710aeb"
      },
      "execution_count": 109,
      "outputs": [
        {
          "output_type": "execute_result",
          "data": {
            "text/plain": [
              "-2"
            ]
          },
          "metadata": {},
          "execution_count": 109
        }
      ]
    },
    {
      "cell_type": "code",
      "source": [
        "#A(4, 4)\n",
        "A6[3, 3]"
      ],
      "metadata": {
        "colab": {
          "base_uri": "https://localhost:8080/"
        },
        "id": "jGQEK1hd8xt_",
        "outputId": "a1c072af-abfc-40a3-c32e-5399c2aba4aa"
      },
      "execution_count": 110,
      "outputs": [
        {
          "output_type": "execute_result",
          "data": {
            "text/plain": [
              "1"
            ]
          },
          "metadata": {},
          "execution_count": 110
        }
      ]
    },
    {
      "cell_type": "code",
      "source": [
        "#the third row,\n",
        "A6[2, :]"
      ],
      "metadata": {
        "colab": {
          "base_uri": "https://localhost:8080/"
        },
        "id": "G8Tewqoa81Ph",
        "outputId": "f9fbd198-9177-42b9-f252-8997a9ad1dbf"
      },
      "execution_count": 111,
      "outputs": [
        {
          "output_type": "execute_result",
          "data": {
            "text/plain": [
              "array([ 4,  1, -2,  0,  7])"
            ]
          },
          "metadata": {},
          "execution_count": 111
        }
      ]
    },
    {
      "cell_type": "code",
      "source": [
        "# the first three columns.\n",
        "A6[:, 0:3]"
      ],
      "metadata": {
        "colab": {
          "base_uri": "https://localhost:8080/"
        },
        "id": "2198MHzx9AUh",
        "outputId": "c1826a3d-643e-4fcd-fd5a-d456c284e155"
      },
      "execution_count": 112,
      "outputs": [
        {
          "output_type": "execute_result",
          "data": {
            "text/plain": [
              "array([[ 2,  5, -1],\n",
              "       [ 1,  0,  0],\n",
              "       [ 4,  1, -2],\n",
              "       [ 0,  3,  5]])"
            ]
          },
          "metadata": {},
          "execution_count": 112
        }
      ]
    },
    {
      "cell_type": "markdown",
      "source": [
        "\n",
        "7. Let matrices A and B be as defined in the Exercise 2. Concatenate matrices A and B in Python and create matrices"
      ],
      "metadata": {
        "id": "SwwSpwTV-iue"
      }
    },
    {
      "cell_type": "code",
      "source": [
        "A7 = np.array([[1, 0], [0, 2], [3, 0]])\n",
        "B7 = np.array([[0, 4], [0, 5], [6, 0]])\n"
      ],
      "metadata": {
        "id": "N1vPPmnO9VzG"
      },
      "execution_count": 114,
      "outputs": []
    },
    {
      "cell_type": "code",
      "source": [
        "print(A7)"
      ],
      "metadata": {
        "colab": {
          "base_uri": "https://localhost:8080/"
        },
        "id": "tABaLkNr_BRC",
        "outputId": "3b40b7d2-4fe6-4437-dc34-e1facbf44134"
      },
      "execution_count": 115,
      "outputs": [
        {
          "output_type": "stream",
          "name": "stdout",
          "text": [
            "[[1 0]\n",
            " [0 2]\n",
            " [3 0]]\n"
          ]
        }
      ]
    },
    {
      "cell_type": "code",
      "source": [
        "print(B7)"
      ],
      "metadata": {
        "colab": {
          "base_uri": "https://localhost:8080/"
        },
        "id": "ftJwivg-_Dn_",
        "outputId": "22820cdd-43ab-4e94-a764-c54c83e45d37"
      },
      "execution_count": 116,
      "outputs": [
        {
          "output_type": "stream",
          "name": "stdout",
          "text": [
            "[[0 4]\n",
            " [0 5]\n",
            " [6 0]]\n"
          ]
        }
      ]
    },
    {
      "cell_type": "code",
      "source": [
        "C7 = np.concatenate((A7, B7), axis=1)\n",
        "print(C7)"
      ],
      "metadata": {
        "colab": {
          "base_uri": "https://localhost:8080/"
        },
        "id": "h-GcOfv3_FVV",
        "outputId": "e18ffe54-1ef4-4b17-e3c0-19601507d294"
      },
      "execution_count": 118,
      "outputs": [
        {
          "output_type": "stream",
          "name": "stdout",
          "text": [
            "[[1 0 0 4]\n",
            " [0 2 0 5]\n",
            " [3 0 6 0]]\n"
          ]
        }
      ]
    },
    {
      "cell_type": "code",
      "source": [
        "D7 = np.concatenate((A7, B7), axis=0)\n",
        "print(D7)"
      ],
      "metadata": {
        "colab": {
          "base_uri": "https://localhost:8080/"
        },
        "id": "-2x7R95F_d34",
        "outputId": "d112b0d8-4a92-4271-987d-fc855bb60b5e"
      },
      "execution_count": 121,
      "outputs": [
        {
          "output_type": "stream",
          "name": "stdout",
          "text": [
            "[[1 0]\n",
            " [0 2]\n",
            " [3 0]\n",
            " [0 4]\n",
            " [0 5]\n",
            " [6 0]]\n"
          ]
        }
      ]
    },
    {
      "cell_type": "code",
      "source": [
        "Reshaped_C = np.reshape(C7, (-1, 1))\n",
        "print(Reshaped_C)"
      ],
      "metadata": {
        "colab": {
          "base_uri": "https://localhost:8080/"
        },
        "id": "-Ox3n0gA_s82",
        "outputId": "2371544a-5548-4cab-c74b-c0ee66b68c60"
      },
      "execution_count": 133,
      "outputs": [
        {
          "output_type": "stream",
          "name": "stdout",
          "text": [
            "[[1]\n",
            " [0]\n",
            " [0]\n",
            " [4]\n",
            " [0]\n",
            " [2]\n",
            " [0]\n",
            " [5]\n",
            " [3]\n",
            " [0]\n",
            " [6]\n",
            " [0]]\n"
          ]
        }
      ]
    },
    {
      "cell_type": "code",
      "source": [
        "#Reshaped_C = np.reshape(C7, (12, 1))\n",
        "#print(Reshaped_C)"
      ],
      "metadata": {
        "id": "Q2dzeb-1_xka"
      },
      "execution_count": 135,
      "outputs": []
    },
    {
      "cell_type": "code",
      "source": [
        ""
      ],
      "metadata": {
        "id": "LqZS9YSsDABc"
      },
      "execution_count": null,
      "outputs": []
    }
  ]
}